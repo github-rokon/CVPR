{
  "nbformat": 4,
  "nbformat_minor": 0,
  "metadata": {
    "colab": {
      "provenance": [],
      "authorship_tag": "ABX9TyNFjGnPioFRUR8TEZwqM++M",
      "include_colab_link": true
    },
    "kernelspec": {
      "name": "python3",
      "display_name": "Python 3"
    },
    "language_info": {
      "name": "python"
    }
  },
  "cells": [
    {
      "cell_type": "markdown",
      "metadata": {
        "id": "view-in-github",
        "colab_type": "text"
      },
      "source": [
        "<a href=\"https://colab.research.google.com/github/github-rokon/CVPR/blob/main/Assignment_2.ipynb\" target=\"_parent\"><img src=\"https://colab.research.google.com/assets/colab-badge.svg\" alt=\"Open In Colab\"/></a>"
      ]
    },
    {
      "cell_type": "code",
      "execution_count": 6,
      "metadata": {
        "id": "7x91YhXZUpUL",
        "colab": {
          "base_uri": "https://localhost:8080/"
        },
        "outputId": "89b6ba9d-3cd0-45e0-8607-18057e741106"
      },
      "outputs": [
        {
          "output_type": "stream",
          "name": "stdout",
          "text": [
            "X_train shape: (800, 10)\n",
            "y_train shape: (800, 5)\n"
          ]
        },
        {
          "output_type": "stream",
          "name": "stderr",
          "text": [
            "/usr/local/lib/python3.10/dist-packages/sklearn/preprocessing/_encoders.py:975: FutureWarning: `sparse` was renamed to `sparse_output` in version 1.2 and will be removed in 1.4. `sparse_output` is ignored unless you leave `sparse` to its default value.\n",
            "  warnings.warn(\n"
          ]
        }
      ],
      "source": [
        "import numpy as np\n",
        "import matplotlib.pyplot as plt\n",
        "from sklearn.datasets import make_classification\n",
        "from sklearn.model_selection import train_test_split\n",
        "from sklearn.preprocessing import OneHotEncoder\n",
        "from sklearn.metrics import accuracy_score, classification_report, confusion_matrix\n",
        "\n",
        "# Generate a synthetic dataset with 5 distinct classes\n",
        "X, y = make_classification(n_samples=1000, n_features=10, n_classes=5, n_informative=5, n_redundant=2, random_state=42)\n",
        "\n",
        "# One-hot encode the labels (for multi-class classification)\n",
        "encoder = OneHotEncoder(sparse=False)\n",
        "y = encoder.fit_transform(y.reshape(-1, 1))\n",
        "\n",
        "# Split the data into training and testing sets\n",
        "X_train, X_test, y_train, y_test = train_test_split(X, y, test_size=0.2, random_state=42)\n",
        "\n",
        "# Check shapes\n",
        "print(f\"X_train shape: {X_train.shape}\")\n",
        "print(f\"y_train shape: {y_train.shape}\")\n"
      ]
    },
    {
      "cell_type": "code",
      "source": [
        "class NeuralNetwork:\n",
        "    def __init__(self, input_size, hidden_layer_sizes, output_size, learning_rate=0.01):\n",
        "        # Initialize network parameters (weights and biases)\n",
        "        self.learning_rate = learning_rate\n",
        "        self.weights = [\n",
        "            np.random.randn(input_size, hidden_layer_sizes[0]),\n",
        "            np.random.randn(hidden_layer_sizes[0], hidden_layer_sizes[1]),\n",
        "            np.random.randn(hidden_layer_sizes[1], hidden_layer_sizes[2]),\n",
        "            np.random.randn(hidden_layer_sizes[2], output_size)\n",
        "        ]\n",
        "        self.biases = [\n",
        "            np.zeros((1, hidden_layer_sizes[0])),\n",
        "            np.zeros((1, hidden_layer_sizes[1])),\n",
        "            np.zeros((1, hidden_layer_sizes[2])),\n",
        "            np.zeros((1, output_size))\n",
        "        ]\n",
        "\n",
        "    def softmax(self, z):\n",
        "        exp_z = np.exp(z - np.max(z, axis=1, keepdims=True))\n",
        "        return exp_z / np.sum(exp_z, axis=1, keepdims=True)\n",
        "\n",
        "    def relu(self, z):\n",
        "        return np.maximum(0, z)\n",
        "\n",
        "    def relu_derivative(self, z):\n",
        "        return np.where(z > 0, 1, 0)\n",
        "\n",
        "    def categorical_crossentropy(self, y_true, y_pred):\n",
        "        return -np.mean(np.sum(y_true * np.log(y_pred + 1e-9), axis=1))\n",
        "\n",
        "    def forward(self, X):\n",
        "        # Forward propagation\n",
        "        self.z1 = np.dot(X, self.weights[0]) + self.biases[0]\n",
        "        self.a1 = self.relu(self.z1)\n",
        "\n",
        "        self.z2 = np.dot(self.a1, self.weights[1]) + self.biases[1]\n",
        "        self.a2 = self.relu(self.z2)\n",
        "\n",
        "        self.z3 = np.dot(self.a2, self.weights[2]) + self.biases[2]\n",
        "        self.a3 = self.relu(self.z3)\n",
        "\n",
        "        self.z_out = np.dot(self.a3, self.weights[3]) + self.biases[3]\n",
        "        self.a_out = self.softmax(self.z_out)\n",
        "\n",
        "        return self.a_out\n",
        "\n",
        "    def backward(self, X, y_true):\n",
        "        # Backward propagation\n",
        "        m = y_true.shape[0]\n",
        "\n",
        "        # Output layer error\n",
        "        d_z_out = self.a_out - y_true\n",
        "        d_w_out = np.dot(self.a3.T, d_z_out) / m\n",
        "        d_b_out = np.sum(d_z_out, axis=0, keepdims=True) / m\n",
        "\n",
        "        # Hidden layer 3 error\n",
        "        d_a3 = np.dot(d_z_out, self.weights[3].T)\n",
        "        d_z3 = d_a3 * self.relu_derivative(self.z3)\n",
        "        d_w3 = np.dot(self.a2.T, d_z3) / m\n",
        "        d_b3 = np.sum(d_z3, axis=0, keepdims=True) / m\n",
        "\n",
        "        # Hidden layer 2 error\n",
        "        d_a2 = np.dot(d_z3, self.weights[2].T)\n",
        "        d_z2 = d_a2 * self.relu_derivative(self.z2)\n",
        "        d_w2 = np.dot(self.a1.T, d_z2) / m\n",
        "        d_b2 = np.sum(d_z2, axis=0, keepdims=True) / m\n",
        "\n",
        "        # Hidden layer 1 error\n",
        "        d_a1 = np.dot(d_z2, self.weights[1].T)\n",
        "        d_z1 = d_a1 * self.relu_derivative(self.z1)\n",
        "        d_w1 = np.dot(X.T, d_z1) / m\n",
        "        d_b1 = np.sum(d_z1, axis=0, keepdims=True) / m\n",
        "\n",
        "        # Update weights and biases\n",
        "        self.weights[3] -= self.learning_rate * d_w_out\n",
        "        self.biases[3] -= self.learning_rate * d_b_out\n",
        "        self.weights[2] -= self.learning_rate * d_w3\n",
        "        self.biases[2] -= self.learning_rate * d_b3\n",
        "        self.weights[1] -= self.learning_rate * d_w2\n",
        "        self.biases[1] -= self.learning_rate * d_b2\n",
        "        self.weights[0] -= self.learning_rate * d_w1\n",
        "        self.biases[0] -= self.learning_rate * d_b1\n",
        "\n",
        "    def train(self, X_train, y_train, epochs=100):\n",
        "        for epoch in range(epochs):\n",
        "            y_pred = self.forward(X_train)\n",
        "            loss = self.categorical_crossentropy(y_train, y_pred)\n",
        "            self.backward(X_train, y_train)\n",
        "            if epoch % 10 == 0:\n",
        "                print(f\"Epoch {epoch}, Loss: {loss}\")\n",
        "\n",
        "    def predict(self, X):\n",
        "        y_pred = self.forward(X)\n",
        "        return np.argmax(y_pred, axis=1)\n"
      ],
      "metadata": {
        "id": "an-szV7Nr17F"
      },
      "execution_count": 7,
      "outputs": []
    },
    {
      "cell_type": "code",
      "source": [
        "# Initialize the neural network\n",
        "input_size = X_train.shape[1]\n",
        "hidden_layer_sizes = [64, 128, 64]  # Three hidden layers\n",
        "output_size = y_train.shape[1]  # 5 output classes\n",
        "learning_rate = 0.01\n",
        "\n",
        "nn = NeuralNetwork(input_size, hidden_layer_sizes, output_size, learning_rate)\n",
        "\n",
        "# Train the neural network\n",
        "nn.train(X_train, y_train, epochs=100)\n"
      ],
      "metadata": {
        "colab": {
          "base_uri": "https://localhost:8080/"
        },
        "id": "CIAUiP-SsCrj",
        "outputId": "d8e22582-b5c3-49b8-b979-45298c409589"
      },
      "execution_count": 8,
      "outputs": [
        {
          "output_type": "stream",
          "name": "stdout",
          "text": [
            "Epoch 0, Loss: 16.032313168237543\n",
            "Epoch 10, Loss: 6.4085413480209334\n",
            "Epoch 20, Loss: 4.2688629937227685\n",
            "Epoch 30, Loss: 3.2920003422070714\n",
            "Epoch 40, Loss: 2.608651437726227\n",
            "Epoch 50, Loss: 2.2287423936186763\n",
            "Epoch 60, Loss: 1.8596940133508952\n",
            "Epoch 70, Loss: 1.5684409606495515\n",
            "Epoch 80, Loss: 1.367836648437218\n",
            "Epoch 90, Loss: 1.222131272083392\n"
          ]
        }
      ]
    },
    {
      "cell_type": "code",
      "source": [
        "# Evaluate the model on test data\n",
        "y_pred = nn.predict(X_test)\n",
        "\n",
        "# Convert one-hot encoded y_test back to class labels\n",
        "y_test_labels = np.argmax(y_test, axis=1)\n",
        "\n",
        "# Calculate metrics\n",
        "accuracy = accuracy_score(y_test_labels, y_pred)\n",
        "print(f\"Accuracy: {accuracy * 100:.2f}%\")\n",
        "\n",
        "# Display classification report and confusion matrix\n",
        "print(\"Classification Report:\\n\", classification_report(y_test_labels, y_pred))\n",
        "print(\"Confusion Matrix:\\n\", confusion_matrix(y_test_labels, y_pred))\n"
      ],
      "metadata": {
        "colab": {
          "base_uri": "https://localhost:8080/"
        },
        "id": "FYLrOeDJsIQ1",
        "outputId": "4eaf7f15-7502-4cfc-d337-259f8fafccfb"
      },
      "execution_count": 9,
      "outputs": [
        {
          "output_type": "stream",
          "name": "stdout",
          "text": [
            "Accuracy: 55.50%\n",
            "Classification Report:\n",
            "               precision    recall  f1-score   support\n",
            "\n",
            "           0       0.43      0.70      0.53        44\n",
            "           1       0.69      0.63      0.66        43\n",
            "           2       0.67      0.34      0.45        41\n",
            "           3       0.56      0.50      0.53        38\n",
            "           4       0.59      0.59      0.59        34\n",
            "\n",
            "    accuracy                           0.56       200\n",
            "   macro avg       0.59      0.55      0.55       200\n",
            "weighted avg       0.59      0.56      0.55       200\n",
            "\n",
            "Confusion Matrix:\n",
            " [[31  4  2  5  2]\n",
            " [ 7 27  3  1  5]\n",
            " [16  3 14  4  4]\n",
            " [13  2  1 19  3]\n",
            " [ 5  3  1  5 20]]\n"
          ]
        }
      ]
    },
    {
      "cell_type": "code",
      "source": [
        "import seaborn as sns\n",
        "\n",
        "# Plot confusion matrix\n",
        "cm = confusion_matrix(y_test_labels, y_pred)\n",
        "plt.figure(figsize=(8, 6))\n",
        "sns.heatmap(cm, annot=True, fmt=\"d\", cmap=\"Blues\", xticklabels=range(5), yticklabels=range(5))\n",
        "plt.title(\"Confusion Matrix\")\n",
        "plt.xlabel(\"Predicted\")\n",
        "plt.ylabel(\"Actual\")\n",
        "plt.show()\n"
      ],
      "metadata": {
        "colab": {
          "base_uri": "https://localhost:8080/",
          "height": 564
        },
        "id": "k1VJF3YHsOSc",
        "outputId": "e83b3ed0-f9b1-45cd-c516-6202d894d9bd"
      },
      "execution_count": 10,
      "outputs": [
        {
          "output_type": "display_data",
          "data": {
            "text/plain": [
              "<Figure size 800x600 with 2 Axes>"
            ],
            "image/png": "[encoded data removed]"
          },
          "metadata": {}
        }
      ]
    }
  ]
}